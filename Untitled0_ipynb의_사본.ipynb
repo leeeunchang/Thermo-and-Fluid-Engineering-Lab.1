{
  "nbformat": 4,
  "nbformat_minor": 0,
  "metadata": {
    "colab": {
      "name": "Untitled0.ipynb의 사본",
      "provenance": [],
      "authorship_tag": "ABX9TyNYYk2BdXleCqs5rX5O7f8D",
      "include_colab_link": true
    },
    "kernelspec": {
      "name": "python3",
      "display_name": "Python 3"
    }
  },
  "cells": [
    {
      "cell_type": "markdown",
      "metadata": {
        "id": "view-in-github",
        "colab_type": "text"
      },
      "source": [
        "<a href=\"https://colab.research.google.com/github/leeeunchang/Thermo-and-Fluid-Engineering-Lab.1/blob/master/Untitled0_ipynb%EC%9D%98_%EC%82%AC%EB%B3%B8.ipynb\" target=\"_parent\"><img src=\"https://colab.research.google.com/assets/colab-badge.svg\" alt=\"Open In Colab\"/></a>"
      ]
    },
    {
      "cell_type": "code",
      "metadata": {
        "id": "mdnRwa-8lW_v",
        "colab_type": "code",
        "colab": {}
      },
      "source": [
        "import math\n",
        "import os\n",
        "import shutil\n",
        "import numpy as np"
      ],
      "execution_count": 0,
      "outputs": []
    },
    {
      "cell_type": "code",
      "metadata": {
        "id": "ipv5Biaxlana",
        "colab_type": "code",
        "colab": {}
      },
      "source": [
        "class Parabolic:\n",
        "\n",
        "    def __init__(self, dt = float(0.000001), t_end = float(0.005), nu = 0.5):\n",
        "        self.U0 = 40\n",
        "        self.N = 41\n",
        "        self.h = 0.01\n",
        "        self.dx = self.h/(self.N-1)\n",
        "        self.dt = dt\n",
        "        self.t_end = t_end\n",
        "        self.nu = nu\n",
        "        self.diffusion = None\n",
        "        self.U = np.random.randn(self.N)\n",
        "        self.Unew = np.random.randn(self.N)\n",
        "        self.Scheme_name = \"Error\"\n",
        "        self.scheme = 'Explicit'\n",
        "        self.iter = int(self.t_end/self.dt)\n",
        "        self.time = float(0.0)\n",
        "        self.dirname = \"Error\"\n",
        "        return\n",
        "\n",
        "    def diffusion_number(self):\n",
        "        self.diffusion = self.nu * self.dt / (math.pow(self.dx, 2))\n",
        "        print(\"Diffusion number is %.3f\"%self.diffusion)\n",
        "\n",
        "    def dinamic_viscosity(self):\n",
        "        if (self.diffusion > 0.5):\n",
        "            print(\"You cannot get proper solution when diffusion number is larger than 0.5\")\n",
        "\n",
        "    def Initial_Condition(self):\n",
        "        self.U = np.zeros(self.N)\n",
        "        self.Unew = np.zeros(self.N)\n",
        "\n",
        "    def Boundary_Condition(self):\n",
        "        self.U[0] = self.Unew[0] = self.U0\n",
        "\n",
        "    def Time_Marching(self):\n",
        "        self.U = self.Unew.copy()\n",
        "\n",
        "    def Dir_Write(self):\n",
        "        self.dirname = \"Parabolic,d={0}\".format(self.diffusion)\n",
        "        path = os.getcwd()\n",
        "        self.dirname = os.path.join(path, self.dirname)\n",
        "        if os.path.isdir(self.dirname):\n",
        "            shutil.rmtree(self.dirname)  # 디렉토리가 존재하면 삭제하고 다시 계산# return # 디렉토리가 존재하면 덮어쓰기 #\n",
        "        os.mkdir(self.dirname)\n",
        "        return\n",
        "\n",
        "    def Para_Write(self):\n",
        "        filename = \"{0}/d={1}.csv.\".format(self.dirname, self.diffusion)\n",
        "        filename = \"%s%.6f\"%(filename, self.time)\n",
        "        file = open(filename, 'w')\n",
        "        file.write(\"X,Y,Z,Velocity\\n\")\n",
        "        for i in range(len(self.U)):\n",
        "            data = \"%3.3f,%3.3f,%3.3f,%3.3f\\n\" % (float(i*self.dx), 0.0, 0.0, self.U[i])\n",
        "            file.write(data)\n",
        "        file.close()\n",
        "\n",
        "    def FTCS(self):\n",
        "        for i in range(1, len(self.U)-1):\n",
        "            self.Unew[i] = self.diffusion * (self.U[i-1]+self.U[i+1])+(1.0-2.0*self.diffusion)*self.U[i]\n",
        "\n",
        "    def Explicit_Solver(self):\n",
        "        for i in range(self.iter+1):\n",
        "            self.Para_Write()\n",
        "            self.FTCS()\n",
        "            self.Time_Marching()\n",
        "            self.time += self.dt\n",
        "            print(\"\\rtime = %.6f\" % self.time, end=\"\")\n",
        "        print()\n",
        "\n",
        "    def Main(self):\n",
        "        self.time = 0.0\n",
        "        self.diffusion_number()\n",
        "        self.dinamic_viscosity()\n",
        "        self.Initial_Condition()\n",
        "        self.Boundary_Condition()\n",
        "        self.Dir_Write()\n",
        "        self.Explicit_Solver()\n",
        "      "
      ],
      "execution_count": 0,
      "outputs": []
    },
    {
      "cell_type": "code",
      "metadata": {
        "id": "BOPPj2HPla4n",
        "colab_type": "code",
        "outputId": "f87cf209-b4b2-416f-d19f-260643efc780",
        "colab": {
          "base_uri": "https://localhost:8080/",
          "height": 87
        }
      },
      "source": [
        "PyCompute = Parabolic(dt = float(0.000001), t_end = float(0.005), nu = 0.5)\n",
        "PyCompute.Main()"
      ],
      "execution_count": 0,
      "outputs": [
        {
          "output_type": "stream",
          "text": [
            "Diffusion number is 8.000\n",
            "You cannot get proper solution when diffusion number is larger than 0.5\n",
            "\rtime = 0.000001\rtime = 0.000002\rtime = 0.000003\rtime = 0.000004\rtime = 0.000005\rtime = 0.000006\rtime = 0.000007\rtime = 0.000008\rtime = 0.000009\rtime = 0.000010\rtime = 0.000011\rtime = 0.000012\rtime = 0.000013\rtime = 0.000014\rtime = 0.000015\rtime = 0.000016\rtime = 0.000017\rtime = 0.000018\rtime = 0.000019\rtime = 0.000020\rtime = 0.000021\rtime = 0.000022\rtime = 0.000023\rtime = 0.000024\rtime = 0.000025\rtime = 0.000026\rtime = 0.000027\rtime = 0.000028\rtime = 0.000029\rtime = 0.000030\rtime = 0.000031\rtime = 0.000032\rtime = 0.000033\rtime = 0.000034\rtime = 0.000035\rtime = 0.000036\rtime = 0.000037\rtime = 0.000038\rtime = 0.000039\rtime = 0.000040\rtime = 0.000041\rtime = 0.000042\rtime = 0.000043\rtime = 0.000044\rtime = 0.000045\rtime = 0.000046\rtime = 0.000047\rtime = 0.000048\rtime = 0.000049\rtime = 0.000050\rtime = 0.000051\rtime = 0.000052\rtime = 0.000053\rtime = 0.000054\rtime = 0.000055\rtime = 0.000056\rtime = 0.000057\rtime = 0.000058\rtime = 0.000059\rtime = 0.000060\rtime = 0.000061\rtime = 0.000062\rtime = 0.000063\rtime = 0.000064\rtime = 0.000065\rtime = 0.000066\rtime = 0.000067\rtime = 0.000068\rtime = 0.000069\rtime = 0.000070\rtime = 0.000071\rtime = 0.000072\rtime = 0.000073\rtime = 0.000074\rtime = 0.000075\rtime = 0.000076\rtime = 0.000077\rtime = 0.000078\rtime = 0.000079\rtime = 0.000080\rtime = 0.000081\rtime = 0.000082\rtime = 0.000083\rtime = 0.000084\rtime = 0.000085\rtime = 0.000086\rtime = 0.000087\rtime = 0.000088\rtime = 0.000089\rtime = 0.000090\rtime = 0.000091\rtime = 0.000092\rtime = 0.000093\rtime = 0.000094\rtime = 0.000095\rtime = 0.000096\rtime = 0.000097\rtime = 0.000098\rtime = 0.000099\rtime = 0.000100\rtime = 0.000101\rtime = 0.000102\rtime = 0.000103\rtime = 0.000104\rtime = 0.000105\rtime = 0.000106\rtime = 0.000107\rtime = 0.000108\rtime = 0.000109\rtime = 0.000110\rtime = 0.000111\rtime = 0.000112\rtime = 0.000113\rtime = 0.000114\rtime = 0.000115\rtime = 0.000116\rtime = 0.000117\rtime = 0.000118\rtime = 0.000119\rtime = 0.000120\rtime = 0.000121\rtime = 0.000122\rtime = 0.000123\rtime = 0.000124\rtime = 0.000125\rtime = 0.000126\rtime = 0.000127\rtime = 0.000128\rtime = 0.000129\rtime = 0.000130\rtime = 0.000131\rtime = 0.000132\rtime = 0.000133\rtime = 0.000134\rtime = 0.000135\rtime = 0.000136\rtime = 0.000137\rtime = 0.000138\rtime = 0.000139\rtime = 0.000140\rtime = 0.000141\rtime = 0.000142\rtime = 0.000143\rtime = 0.000144\rtime = 0.000145\rtime = 0.000146\rtime = 0.000147\rtime = 0.000148\rtime = 0.000149\rtime = 0.000150\rtime = 0.000151\rtime = 0.000152\rtime = 0.000153\rtime = 0.000154\rtime = 0.000155\rtime = 0.000156\rtime = 0.000157\rtime = 0.000158\rtime = 0.000159\rtime = 0.000160\rtime = 0.000161\rtime = 0.000162\rtime = 0.000163\rtime = 0.000164\rtime = 0.000165\rtime = 0.000166\rtime = 0.000167\rtime = 0.000168\rtime = 0.000169\rtime = 0.000170\rtime = 0.000171\rtime = 0.000172\rtime = 0.000173\rtime = 0.000174\rtime = 0.000175\rtime = 0.000176\rtime = 0.000177\rtime = 0.000178\rtime = 0.000179\rtime = 0.000180\rtime = 0.000181\rtime = 0.000182\rtime = 0.000183\rtime = 0.000184\rtime = 0.000185\rtime = 0.000186\rtime = 0.000187\rtime = 0.000188\rtime = 0.000189\rtime = 0.000190\rtime = 0.000191\rtime = 0.000192\rtime = 0.000193\rtime = 0.000194\rtime = 0.000195\rtime = 0.000196\rtime = 0.000197\rtime = 0.000198\rtime = 0.000199\rtime = 0.000200\rtime = 0.000201\rtime = 0.000202\rtime = 0.000203\rtime = 0.000204\rtime = 0.000205\rtime = 0.000206\rtime = 0.000207\rtime = 0.000208\rtime = 0.000209\rtime = 0.000210\rtime = 0.000211\rtime = 0.000212\rtime = 0.000213\rtime = 0.000214\rtime = 0.000215\rtime = 0.000216\rtime = 0.000217\rtime = 0.000218\rtime = 0.000219\rtime = 0.000220\rtime = 0.000221\rtime = 0.000222\rtime = 0.000223\rtime = 0.000224\rtime = 0.000225\rtime = 0.000226\rtime = 0.000227\rtime = 0.000228\rtime = 0.000229\rtime = 0.000230\rtime = 0.000231\rtime = 0.000232\rtime = 0.000233\rtime = 0.000234\rtime = 0.000235\rtime = 0.000236\rtime = 0.000237\rtime = 0.000238\rtime = 0.000239\rtime = 0.000240\rtime = 0.000241\rtime = 0.000242\rtime = 0.000243\rtime = 0.000244\rtime = 0.000245\rtime = 0.000246\rtime = 0.000247\rtime = 0.000248\rtime = 0.000249\rtime = 0.000250\rtime = 0.000251\rtime = 0.000252\rtime = 0.000253\rtime = 0.000254\rtime = 0.000255\rtime = 0.000256\rtime = 0.000257\rtime = 0.000258\rtime = 0.000259\rtime = 0.000260\rtime = 0.000261\rtime = 0.000262\rtime = 0.000263\rtime = 0.000264\rtime = 0.000265\rtime = 0.000266\rtime = 0.000267\rtime = 0.000268\rtime = 0.000269\rtime = 0.000270\rtime = 0.000271\rtime = 0.000272\rtime = 0.000273\rtime = 0.000274\rtime = 0.000275\rtime = 0.000276\rtime = 0.000277\rtime = 0.000278\rtime = 0.000279\rtime = 0.000280\rtime = 0.000281\rtime = 0.000282\rtime = 0.000283\rtime = 0.000284\rtime = 0.000285\rtime = 0.000286\rtime = 0.000287\rtime = 0.000288\rtime = 0.000289\rtime = 0.000290\rtime = 0.000291\rtime = 0.000292\rtime = 0.000293\rtime = 0.000294\rtime = 0.000295\rtime = 0.000296\rtime = 0.000297\rtime = 0.000298\rtime = 0.000299\rtime = 0.000300\rtime = 0.000301\rtime = 0.000302\rtime = 0.000303\rtime = 0.000304\rtime = 0.000305\rtime = 0.000306\rtime = 0.000307\rtime = 0.000308"
          ],
          "name": "stdout"
        },
        {
          "output_type": "stream",
          "text": [
            "/usr/local/lib/python3.6/dist-packages/ipykernel_launcher.py:60: RuntimeWarning: overflow encountered in double_scalars\n"
          ],
          "name": "stderr"
        },
        {
          "output_type": "stream",
          "text": [
            "time = 0.005001\n"
          ],
          "name": "stdout"
        }
      ]
    },
    {
      "cell_type": "code",
      "metadata": {
        "id": "k5PPhBOmlmSf",
        "colab_type": "code",
        "outputId": "8c9a5de5-4764-473c-b506-3b3441faea64",
        "colab": {
          "base_uri": "https://localhost:8080/",
          "height": 52
        }
      },
      "source": [
        "!zip -r -qq Parabolic,d=0.5.zip Parabolic,d=0.5"
      ],
      "execution_count": 0,
      "outputs": [
        {
          "output_type": "stream",
          "text": [
            "\n",
            "zip error: Nothing to do! (try: zip -r -qq Parabolic,d=0.5.zip . -i Parabolic,d=0.5)\n"
          ],
          "name": "stdout"
        }
      ]
    }
  ]
}